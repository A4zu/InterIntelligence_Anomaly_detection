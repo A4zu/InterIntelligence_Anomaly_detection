{
  "nbformat": 4,
  "nbformat_minor": 0,
  "metadata": {
    "colab": {
      "provenance": [],
      "authorship_tag": "ABX9TyPAFOt3bcDk8w3VleMa0vTd",
      "include_colab_link": true
    },
    "kernelspec": {
      "name": "python3",
      "display_name": "Python 3"
    },
    "language_info": {
      "name": "python"
    }
  },
  "cells": [
    {
      "cell_type": "markdown",
      "metadata": {
        "id": "view-in-github",
        "colab_type": "text"
      },
      "source": [
        "<a href=\"https://colab.research.google.com/github/A4zu/InterIntelligence_Anomaly_detection/blob/main/Untitled2.ipynb\" target=\"_parent\"><img src=\"https://colab.research.google.com/assets/colab-badge.svg\" alt=\"Open In Colab\"/></a>"
      ]
    },
    {
      "cell_type": "code",
      "source": [
        "# Step 1: Import libraries\n",
        "import numpy as np\n",
        "import pandas as pd\n",
        "from sklearn.ensemble import IsolationForest\n",
        "from sklearn.svm import OneClassSVM\n",
        "from sklearn.metrics import classification_report\n",
        "from sklearn.model_selection import train_test_split\n",
        "\n",
        "# Step 2: Generate synthetic dataset (normal + anomalies)\n",
        "# Normal data\n",
        "normal_data = np.random.normal(0, 1, (1000, 2))   # mean=0, std=1\n",
        "# Anomaly data\n",
        "anomaly_data = np.random.uniform(low=-6, high=6, size=(50, 2))  # more extreme values\n",
        "\n",
        "# Combine dataset\n",
        "X = np.vstack([normal_data, anomaly_data])\n",
        "y = np.hstack([np.zeros(1000), np.ones(50)])  # 0=normal, 1=anomaly\n",
        "\n",
        "# Split dataset\n",
        "X_train, X_test, y_train, y_test = train_test_split(X, y, test_size=0.3, random_state=42)\n",
        "\n",
        "print(\"Dataset shapes:\", X_train.shape, X_test.shape)\n",
        "\n",
        "# Step 3: Train Isolation Forest\n",
        "iso_forest = IsolationForest(contamination=0.05, random_state=42)\n",
        "iso_forest.fit(X_train)\n",
        "\n",
        "# Predict\n",
        "y_pred_iso = iso_forest.predict(X_test)\n",
        "y_pred_iso = np.where(y_pred_iso == -1, 1, 0)  # -1=anomaly -> 1, 1=normal -> 0\n",
        "\n",
        "print(\"\\nIsolation Forest Results:\")\n",
        "print(classification_report(y_test, y_pred_iso))\n",
        "\n",
        "# Step 4: Train One-Class SVM\n",
        "oc_svm = OneClassSVM(kernel='rbf', gamma=0.05, nu=0.05)\n",
        "oc_svm.fit(X_train[y_train == 0])  # only train on normal data\n",
        "\n",
        "# Predict\n",
        "y_pred_svm = oc_svm.predict(X_test)\n",
        "y_pred_svm = np.where(y_pred_svm == -1, 1, 0)\n",
        "\n",
        "print(\"\\nOne-Class SVM Results:\")\n",
        "print(classification_report(y_test, y_pred_svm))\n",
        "\n",
        "# Step 5: Deployment Simulation (new data)\n",
        "new_data = np.array([[0, 0], [5, 5], [-4, 4]])  # some normal, some anomaly\n",
        "predictions = iso_forest.predict(new_data)\n",
        "predictions = np.where(predictions == -1, \"Anomaly\", \"Normal\")\n",
        "\n",
        "print(\"\\nDeployment Simulation on new data:\")\n",
        "for point, pred in zip(new_data, predictions):\n",
        "    print(f\"Data point {point} -> {pred}\")\n"
      ],
      "metadata": {
        "id": "30cjlb58O_Jr"
      },
      "execution_count": null,
      "outputs": []
    }
  ]
}